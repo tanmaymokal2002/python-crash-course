{
 "cells": [
  {
   "cell_type": "markdown",
   "id": "a4712c08-6bcf-43fa-8d93-8b82cf5aed3a",
   "metadata": {},
   "source": [
    "# Strings"
   ]
  },
  {
   "cell_type": "code",
   "execution_count": 30,
   "id": "57af2a36-3b8c-4320-9c0a-623dd667501b",
   "metadata": {},
   "outputs": [],
   "source": []
  },
  {
   "cell_type": "code",
   "execution_count": 99,
   "id": "ba97408c-5a60-4b5f-a201-4648b3a62421",
   "metadata": {},
   "outputs": [
    {
     "name": "stdout",
     "output_type": "stream",
     "text": [
      "  Tanmay Loves To Code And Read  \n"
     ]
    }
   ],
   "source": [
    "#changes first letter of each word in a string to capital case \n",
    "name = '  Tanmay loves to code and read  '\n",
    "print(name.title()) "
   ]
  },
  {
   "cell_type": "code",
   "execution_count": 103,
   "id": "0cf8669e-8b03-4815-b093-9fc5ce9eb931",
   "metadata": {},
   "outputs": [
    {
     "name": "stdout",
     "output_type": "stream",
     "text": [
      "  tanmay loves to code and read  \n",
      "  TANMAY LOVES TO CODE AND READ  \n"
     ]
    }
   ],
   "source": [
    "#upper and lower case\n",
    "\n",
    "print(name.lower())\n",
    "print(name.upper())\n"
   ]
  },
  {
   "cell_type": "code",
   "execution_count": 20,
   "id": "68bbdb00-7bea-4260-ae36-a42daa271ecd",
   "metadata": {},
   "outputs": [
    {
     "name": "stdout",
     "output_type": "stream",
     "text": [
      "Tanmay Mokal\n",
      "Tanmay Mokal\n"
     ]
    }
   ],
   "source": [
    "#fstring \n",
    "\n",
    "first_name = 'Tanmay'\n",
    "last_name = 'Mokal'\n",
    "full_name = f\"{first_name} {last_name}\"\n",
    "print(f\"{first_name} {last_name}\")\n",
    "print(full_name.title()) #can add above functions in fstring too"
   ]
  },
  {
   "cell_type": "code",
   "execution_count": 26,
   "id": "04aa500a-e502-42c0-b0c4-933a13b682e5",
   "metadata": {},
   "outputs": [
    {
     "name": "stdout",
     "output_type": "stream",
     "text": [
      "\tPython\n",
      "python\n",
      "\n",
      "Python\n"
     ]
    }
   ],
   "source": [
    "#adding whitespace to strings using tabs or newlines\n",
    "\n",
    "print('\\tPython')\n",
    "print('python')\n",
    "print('\\nPython')"
   ]
  },
  {
   "cell_type": "code",
   "execution_count": 56,
   "id": "30784be3-6fbc-4ad9-9c90-3959947fe353",
   "metadata": {},
   "outputs": [
    {
     "name": "stdout",
     "output_type": "stream",
     "text": [
      "Halloween\n"
     ]
    }
   ],
   "source": [
    "# stripping whitespaces\n",
    "\n",
    "x = '  Halloween '\n",
    "x = x.rstrip() #removes whitespaces only from right end\n",
    "x = x.lstrip() #removes whitespaces only from right end\n",
    "x = x = '  Halloween '\n",
    "x = x.strip() #removes whitespaces from both ends\n",
    "print(x)"
   ]
  },
  {
   "cell_type": "code",
   "execution_count": 72,
   "id": "7c1dc3e2-a9d3-43c0-a99c-a3447451cfd1",
   "metadata": {},
   "outputs": [
    {
     "name": "stdout",
     "output_type": "stream",
     "text": [
      "bluelockseason2\n",
      "https://bluelockseason2\n"
     ]
    }
   ],
   "source": [
    "# Removing prefixes\n",
    "\n",
    "url = 'https://bluelockseason2'\n",
    "prefix = url.removeprefix('https://')\n",
    "print(prefix)\n",
    "print(url)"
   ]
  },
  {
   "cell_type": "markdown",
   "id": "9cade952-f970-4912-a384-868a411ae5bc",
   "metadata": {},
   "source": [
    "# Numbers"
   ]
  },
  {
   "cell_type": "code",
   "execution_count": 85,
   "id": "b6fef941-deb0-4d77-a6d0-b72d6f206886",
   "metadata": {},
   "outputs": [
    {
     "name": "stdout",
     "output_type": "stream",
     "text": [
      "5\n",
      "-1\n",
      "0.6666666666666666\n",
      "6\n",
      "8\n",
      "18\n",
      "24\n"
     ]
    }
   ],
   "source": [
    "#integers:\n",
    "\n",
    "print(2+3)\n",
    "print(2-3)\n",
    "print(2/3)\n",
    "print(2*3)\n",
    "print(2**3) #exponents => 2^3 = 2*2*2 = 8\n",
    "print(2+4*4)\n",
    "print((2+4) * 4)"
   ]
  },
  {
   "cell_type": "code",
   "execution_count": 83,
   "id": "1b308cae-182e-478a-ae6e-df093e818970",
   "metadata": {},
   "outputs": [
    {
     "name": "stdout",
     "output_type": "stream",
     "text": [
      "0.30000000000000004\n",
      "0.30000000000000004\n"
     ]
    }
   ],
   "source": [
    "#floats\n",
    "\n",
    "print(0.1 + 0.2)\n",
    "print(0.1*3)"
   ]
  },
  {
   "cell_type": "code",
   "execution_count": 93,
   "id": "925e4250-9381-44e1-903a-baa77a34c585",
   "metadata": {},
   "outputs": [
    {
     "name": "stdout",
     "output_type": "stream",
     "text": [
      "2.0\n",
      "3.3\n",
      "9.0\n"
     ]
    }
   ],
   "source": [
    "#integer and float\n",
    "\n",
    "print(4/2) #when you didvide any two numbers even if they are integers they will result into whole float numbers\n",
    "print(1 + 2.3) #when you float and integer in any operation you will get a float\n",
    "print(3.0 ** 2)"
   ]
  },
  {
   "cell_type": "code",
   "execution_count": 97,
   "id": "8e8ba97e-fa8e-4a2c-9496-7e4b9e3857d6",
   "metadata": {},
   "outputs": [
    {
     "name": "stdout",
     "output_type": "stream",
     "text": [
      "14000000000\n"
     ]
    }
   ],
   "source": [
    "#undercores in Numbers\n",
    "\n",
    "universe_age = 14_000_000_000 #its just to maintain readability\n",
    "print(universe_age)\n"
   ]
  },
  {
   "cell_type": "code",
   "execution_count": 117,
   "id": "f9836a6f-008f-4e3e-83c8-d68f7f03b414",
   "metadata": {},
   "outputs": [
    {
     "name": "stdout",
     "output_type": "stream",
     "text": [
      "1   2   3\n"
     ]
    }
   ],
   "source": [
    "# Multiple Assignment\n",
    "\n",
    "x, y, z = 1, 2, 3\n",
    "print(x, ' ', y, ' ', z)"
   ]
  },
  {
   "cell_type": "code",
   "execution_count": 111,
   "id": "994cc44f-b7bc-4d60-a3ad-a56997aa9914",
   "metadata": {},
   "outputs": [
    {
     "name": "stdout",
     "output_type": "stream",
     "text": [
      "The Zen of Python, by Tim Peters\n",
      "\n",
      "Beautiful is better than ugly.\n",
      "Explicit is better than implicit.\n",
      "Simple is better than complex.\n",
      "Complex is better than complicated.\n",
      "Flat is better than nested.\n",
      "Sparse is better than dense.\n",
      "Readability counts.\n",
      "Special cases aren't special enough to break the rules.\n",
      "Although practicality beats purity.\n",
      "Errors should never pass silently.\n",
      "Unless explicitly silenced.\n",
      "In the face of ambiguity, refuse the temptation to guess.\n",
      "There should be one-- and preferably only one --obvious way to do it.\n",
      "Although that way may not be obvious at first unless you're Dutch.\n",
      "Now is better than never.\n",
      "Although never is often better than *right* now.\n",
      "If the implementation is hard to explain, it's a bad idea.\n",
      "If the implementation is easy to explain, it may be a good idea.\n",
      "Namespaces are one honking great idea -- let's do more of those!\n"
     ]
    }
   ],
   "source": [
    "import this"
   ]
  },
  {
   "cell_type": "code",
   "execution_count": null,
   "id": "f68f93d7-17c1-4a9c-b0e5-2d308221d7f1",
   "metadata": {},
   "outputs": [],
   "source": []
  }
 ],
 "metadata": {
  "kernelspec": {
   "display_name": "Python 3 (ipykernel)",
   "language": "python",
   "name": "python3"
  },
  "language_info": {
   "codemirror_mode": {
    "name": "ipython",
    "version": 3
   },
   "file_extension": ".py",
   "mimetype": "text/x-python",
   "name": "python",
   "nbconvert_exporter": "python",
   "pygments_lexer": "ipython3",
   "version": "3.12.4"
  }
 },
 "nbformat": 4,
 "nbformat_minor": 5
}
