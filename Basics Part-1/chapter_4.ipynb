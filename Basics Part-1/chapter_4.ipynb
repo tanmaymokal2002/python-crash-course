{
 "cells": [
  {
   "cell_type": "markdown",
   "id": "b70d94aa-bf9b-4f7f-804f-25ce15df5114",
   "metadata": {},
   "source": [
    "# <span style=\"font-size:40px; color:#FFA500;\">WORKING WITH LISTS</span>"
   ]
  },
  {
   "cell_type": "markdown",
   "id": "ee25e103-e9d8-45b2-a73c-c1d546f1d827",
   "metadata": {},
   "source": [
    "## <span style=\"font-size:35px; color:#708090;\">Looping Through an Entire List</span>"
   ]
  },
  {
   "cell_type": "code",
   "execution_count": 5,
   "id": "24de61f5-d9d5-48a6-877c-4fcb73ac0667",
   "metadata": {},
   "outputs": [
    {
     "name": "stdout",
     "output_type": "stream",
     "text": [
      "alice\n",
      "david\n",
      "carolina\n"
     ]
    }
   ],
   "source": [
    "magicians = ['alice', 'david', 'carolina']\n",
    "for magician in magicians:\n",
    "        print(magician)"
   ]
  },
  {
   "cell_type": "code",
   "execution_count": 19,
   "id": "6f80e44e-9bec-47b0-9fc6-71e5ef70f11c",
   "metadata": {},
   "outputs": [
    {
     "name": "stdout",
     "output_type": "stream",
     "text": [
      "Alice performed a great trick\n",
      "I can't wait to see Alice's next trick\n",
      "\n",
      "\n",
      "David performed a great trick\n",
      "I can't wait to see David's next trick\n",
      "\n",
      "\n",
      "Carolina performed a great trick\n",
      "I can't wait to see Carolina's next trick\n",
      "\n",
      "\n",
      "Magic Show Ended\n"
     ]
    }
   ],
   "source": [
    "for magician in magicians:\n",
    "        print(f\"{magician.title()} performed a great trick\")\n",
    "        print(f\"I can't wait to see {magician.title()}'s next trick\")\n",
    "        print('\\n')\n",
    "\n",
    "print('Magic Show Ended')"
   ]
  },
  {
   "cell_type": "markdown",
   "id": "34b26438-79ef-4ca2-8344-16e6428361eb",
   "metadata": {},
   "source": [
    "## <span style=\"font-size:35px; color:#708090;\">Making Numerical Lists</span>"
   ]
  },
  {
   "cell_type": "code",
   "execution_count": 32,
   "id": "932e4ae5-09e6-4e82-bf59-da13ac49c1a6",
   "metadata": {},
   "outputs": [
    {
     "name": "stdout",
     "output_type": "stream",
     "text": [
      "-1\n",
      "0\n",
      "1\n",
      "2\n",
      "3\n",
      "4\n"
     ]
    }
   ],
   "source": [
    "# Using the range() Function\n",
    "\n",
    "for value in range(-1, 5):\n",
    "    print(value)"
   ]
  },
  {
   "cell_type": "code",
   "execution_count": 11,
   "id": "71972fc4-6f28-4a11-b88c-4ce45eda5d90",
   "metadata": {},
   "outputs": [
    {
     "name": "stdout",
     "output_type": "stream",
     "text": [
      "2\n",
      "4\n",
      "6\n",
      "8\n",
      "10\n",
      "[1, 4, 9, 16, 25, 36, 49, 64, 81, 100]\n"
     ]
    }
   ],
   "source": [
    "# Using range() to Make a List of Numbers\n",
    "\n",
    "for i in range(2, 11, 2): \n",
    "    print(i)\n",
    "\n",
    "square = []\n",
    "for i in range(1, 11):\n",
    "    value = i ** 2\n",
    "    square.append(value)\n",
    "print(square)"
   ]
  },
  {
   "cell_type": "code",
   "execution_count": 23,
   "id": "bce255ba-98df-4e0c-8790-ba22412c83a0",
   "metadata": {},
   "outputs": [
    {
     "name": "stdout",
     "output_type": "stream",
     "text": [
      "45\n",
      "0\n",
      "9\n"
     ]
    }
   ],
   "source": [
    "# Simple Statistics with a List of Numbers\n",
    "\n",
    "digits = [1, 2, 3, 4, 5, 6, 7, 8, 9, 0]\n",
    "print(sum(digits))\n",
    "print(min(digits))\n",
    "print(max(digits))\n"
   ]
  },
  {
   "cell_type": "code",
   "execution_count": 25,
   "id": "6ccdaa51-2dcb-441c-9aee-1d9c8b7aeace",
   "metadata": {},
   "outputs": [
    {
     "name": "stdout",
     "output_type": "stream",
     "text": [
      "[1, 4, 9, 16, 25, 36, 49, 64, 81, 100]\n"
     ]
    }
   ],
   "source": [
    "# List Comprehensions\n",
    "\n",
    "squares = [value ** 2 for value in range(1, 11)]\n",
    "print(squares)"
   ]
  },
  {
   "cell_type": "markdown",
   "id": "9818ab00-478d-4b69-8cfd-438ec31c76f4",
   "metadata": {},
   "source": [
    "## <span style=\"font-size:35px; color:#708090;\">Working with Part of a List</span>"
   ]
  },
  {
   "cell_type": "code",
   "execution_count": 40,
   "id": "010d1767-bd93-4a22-afaf-dbe87641d14d",
   "metadata": {},
   "outputs": [
    {
     "name": "stdout",
     "output_type": "stream",
     "text": [
      "['charles', 'martina', 'michael']\n",
      "['martina', 'michael', 'florence']\n",
      "['charles', 'martina', 'michael', 'florence']\n",
      "['michael', 'florence', 'eli']\n",
      "['michael', 'florence', 'eli']\n"
     ]
    }
   ],
   "source": [
    "# Slicing a List\n",
    "\n",
    "players = ['charles', 'martina', 'michael', 'florence','eli']\n",
    "print(players[0:3])\n",
    "print(players[1:4])\n",
    "print(players[:4])\n",
    "print(players[2:])\n",
    "print(players[-3:])"
   ]
  },
  {
   "cell_type": "code",
   "execution_count": 46,
   "id": "324c1bc4-a78a-428a-b68c-3615a2b1e129",
   "metadata": {},
   "outputs": [
    {
     "name": "stdout",
     "output_type": "stream",
     "text": [
      "Here are the first three players on my team:\n",
      "Charles\n",
      "Martina\n",
      "Michael\n"
     ]
    }
   ],
   "source": [
    "# Looping Through a Slice\n",
    "\n",
    "players = ['charles', 'martina', 'michael', 'florence',\n",
    "'eli']\n",
    "print(\"Here are the first three players on my team:\")\n",
    "for i in players[:3]:\n",
    "    print(i.title())"
   ]
  },
  {
   "cell_type": "code",
   "execution_count": 64,
   "id": "47669cc8-09ef-4f2a-b1f3-c8c33256c3d2",
   "metadata": {},
   "outputs": [
    {
     "name": "stdout",
     "output_type": "stream",
     "text": [
      "['pizza', 'falafel', 'carrot cake']\n",
      "['pizza', 'falafel', 'carrot cake'] \n",
      "\n",
      "['pizza', 'falafel', 'carrot cake', 'panipuri']\n",
      "['pizza', 'falafel', 'carrot cake', 'lobster'] \n",
      "\n",
      "[43, 23, 4, 4, 31, 90, 90]\n",
      "[43, 23, 4, 4, 31, 90, 90]\n"
     ]
    }
   ],
   "source": [
    "# Copying a List\n",
    "\n",
    "my_foods = ['pizza', 'falafel', 'carrot cake']\n",
    "friends_foods = my_foods[:]\n",
    "print(my_foods)\n",
    "print(friends_foods , '\\n')\n",
    "\n",
    "my_foods.append('panipuri')\n",
    "friends_foods.append('lobster')\n",
    "print(my_foods)\n",
    "print(friends_foods, '\\n')\n",
    "\n",
    "\n",
    "list1 = [1, 23, 4, 5, 5]\n",
    "list2 = [43, 23, 4, 4, 31]\n",
    "list1 = list2\n",
    "list1.append(90)\n",
    "list2.append(90)\n",
    "print(list1)\n",
    "print(list2)"
   ]
  },
  {
   "cell_type": "markdown",
   "id": "9bd8a40f-6a26-4142-b6b0-22b9a84cd166",
   "metadata": {},
   "source": [
    "## <span style=\"font-size:35px; color:#708090;\">Tuples</span>"
   ]
  },
  {
   "cell_type": "code",
   "execution_count": 71,
   "id": "7bc35438-8a59-477b-9390-da966da1cb67",
   "metadata": {},
   "outputs": [
    {
     "name": "stdout",
     "output_type": "stream",
     "text": [
      "(200, 50)\n",
      "200\n"
     ]
    }
   ],
   "source": [
    "# Defining a Tuple\n",
    "\n",
    "dimensions = (200, 50)\n",
    "print(dimensions)\n",
    "print(dimensions[0])"
   ]
  },
  {
   "cell_type": "code",
   "execution_count": 73,
   "id": "c864a52a-fd2e-46e8-a500-852c71aa95ce",
   "metadata": {},
   "outputs": [
    {
     "name": "stdout",
     "output_type": "stream",
     "text": [
      "200\n",
      "50\n"
     ]
    }
   ],
   "source": [
    "# Looping Through All Values in a Tuple\n",
    "for i in dimensions:\n",
    "    print(i)"
   ]
  },
  {
   "cell_type": "code",
   "execution_count": 79,
   "id": "da25925b-50be-48ec-ba80-c9b388a7311c",
   "metadata": {},
   "outputs": [
    {
     "name": "stdout",
     "output_type": "stream",
     "text": [
      "modified tuple:  (300, 90)\n"
     ]
    },
    {
     "ename": "TypeError",
     "evalue": "'tuple' object does not support item assignment",
     "output_type": "error",
     "traceback": [
      "\u001b[0;31m---------------------------------------------------------------------------\u001b[0m",
      "\u001b[0;31mTypeError\u001b[0m                                 Traceback (most recent call last)",
      "Cell \u001b[0;32mIn[79], line 4\u001b[0m\n\u001b[1;32m      2\u001b[0m dimensions \u001b[38;5;241m=\u001b[39m (\u001b[38;5;241m300\u001b[39m, \u001b[38;5;241m90\u001b[39m)\n\u001b[1;32m      3\u001b[0m \u001b[38;5;28mprint\u001b[39m(\u001b[38;5;124m'\u001b[39m\u001b[38;5;124mmodified tuple: \u001b[39m\u001b[38;5;124m'\u001b[39m, dimensions)\n\u001b[0;32m----> 4\u001b[0m dimensions[\u001b[38;5;241m0\u001b[39m] \u001b[38;5;241m=\u001b[39m \u001b[38;5;241m2\u001b[39m\n",
      "\u001b[0;31mTypeError\u001b[0m: 'tuple' object does not support item assignment"
     ]
    }
   ],
   "source": [
    "# Writing Over a Tuple\n",
    "dimensions = (300, 90)\n",
    "print('modified tuple: ', dimensions)\n",
    "dimensions[0] = 2\n"
   ]
  },
  {
   "cell_type": "code",
   "execution_count": null,
   "id": "d303168c-6f17-4bc1-8b1c-7a05d00ed268",
   "metadata": {},
   "outputs": [],
   "source": []
  },
  {
   "cell_type": "code",
   "execution_count": null,
   "id": "cb1d711a-8aba-4c66-b2da-21e8fa9e4cd8",
   "metadata": {},
   "outputs": [],
   "source": []
  }
 ],
 "metadata": {
  "kernelspec": {
   "display_name": "Python 3 (ipykernel)",
   "language": "python",
   "name": "python3"
  },
  "language_info": {
   "codemirror_mode": {
    "name": "ipython",
    "version": 3
   },
   "file_extension": ".py",
   "mimetype": "text/x-python",
   "name": "python",
   "nbconvert_exporter": "python",
   "pygments_lexer": "ipython3",
   "version": "3.12.4"
  }
 },
 "nbformat": 4,
 "nbformat_minor": 5
}
