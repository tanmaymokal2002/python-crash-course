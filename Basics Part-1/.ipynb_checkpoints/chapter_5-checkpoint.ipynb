{
 "cells": [
  {
   "cell_type": "markdown",
   "id": "6b3053a5-8afb-40b5-ba1c-ae583a336e83",
   "metadata": {},
   "source": [
    "# <span style=\"font-size:40px; color:#FFA500;\">IF STATEMENTS</span>"
   ]
  },
  {
   "cell_type": "markdown",
   "id": "4250bac8-6db7-41de-a20d-ee2622b80542",
   "metadata": {},
   "source": [
    "## <span style=\"font-size:35px; color:#708090;\">A Simple Example</span>"
   ]
  },
  {
   "cell_type": "code",
   "execution_count": 4,
   "id": "d75e3b3e-53a1-41c9-9b73-726cb3608e75",
   "metadata": {},
   "outputs": [
    {
     "name": "stdout",
     "output_type": "stream",
     "text": [
      "Audi\n",
      "BMW\n",
      "Subaru\n",
      "Toyota\n"
     ]
    }
   ],
   "source": [
    "cars = ['audi', 'bmw', 'subaru', 'toyota']\n",
    "for car in cars:\n",
    "    if(car == 'bmw'):\n",
    "        print(car.upper())\n",
    "    else:\n",
    "        print(car.title())"
   ]
  },
  {
   "cell_type": "markdown",
   "id": "82159aff-6f1f-4d7a-a9bb-d404e162fd4b",
   "metadata": {},
   "source": [
    "## <span style=\"font-size:35px; color:#708090;\">Conditional Tests</span>"
   ]
  },
  {
   "cell_type": "code",
   "execution_count": 9,
   "id": "44a46063-7c8c-43c5-bfc0-92eb17103c21",
   "metadata": {},
   "outputs": [
    {
     "name": "stdout",
     "output_type": "stream",
     "text": [
      "True\n",
      "False\n"
     ]
    }
   ],
   "source": [
    "# Checking for Equality\n",
    "\n",
    "car = 'bmw'\n",
    "print(car == 'bmw')\n",
    "print(car == 'audi')"
   ]
  },
  {
   "cell_type": "code",
   "execution_count": 21,
   "id": "63a3ee1c-d7fb-41f5-9e51-664976eff5c2",
   "metadata": {},
   "outputs": [
    {
     "name": "stdout",
     "output_type": "stream",
     "text": [
      "False\n",
      "False\n",
      "True\n"
     ]
    }
   ],
   "source": [
    "# Ignoring Case When Checking for Equality\n",
    "\n",
    "car = 'Supra'\n",
    "car_copy = car.lower()\n",
    "print(car == car_copy)\n",
    "print(car.lower() == car)\n",
    "print(car.lower() == 'supra')\n"
   ]
  },
  {
   "cell_type": "code",
   "execution_count": 23,
   "id": "ec7b9248-4ef2-4195-8ef4-d67d4c554d11",
   "metadata": {},
   "outputs": [
    {
     "name": "stdout",
     "output_type": "stream",
     "text": [
      "hold the biryani...\n"
     ]
    }
   ],
   "source": [
    "# Checking for Inequality\n",
    "\n",
    "requested_topping = 'mushrooms'\n",
    "if(requested_topping != 'biryani'):\n",
    "    print('hold the biryani...')"
   ]
  },
  {
   "cell_type": "code",
   "execution_count": 31,
   "id": "1d4047c2-fff8-4827-a486-486037d800b4",
   "metadata": {},
   "outputs": [
    {
     "name": "stdout",
     "output_type": "stream",
     "text": [
      "valid user\n",
      "invalid user\n"
     ]
    }
   ],
   "source": [
    "# Checking Whether a Value Is Not in a List\n",
    "\n",
    "banned_users = ['andrew', 'carolina', 'david']\n",
    "user1 = 'marie'\n",
    "user2 = 'andrew'\n",
    "if user not in banned_users:\n",
    "    print('valid user')\n",
    "    \n",
    "if user2 in banned_users:\n",
    "    print('invalid user')\n",
    "\n"
   ]
  },
  {
   "cell_type": "markdown",
   "id": "ec2e3895-6a0a-4674-93a3-9004879c6f76",
   "metadata": {},
   "source": [
    "## <span style=\"font-size:35px; color:#708090;\">if Statements</span>"
   ]
  },
  {
   "cell_type": "code",
   "execution_count": 34,
   "id": "0c608b05-777b-4bad-be96-c90bcedfebfc",
   "metadata": {},
   "outputs": [
    {
     "name": "stdout",
     "output_type": "stream",
     "text": [
      "eligible to vote\n"
     ]
    }
   ],
   "source": [
    "# Simple if Statements\n",
    "\n",
    "age = 19\n",
    "if age>=18:\n",
    "    print('eligible to vote')"
   ]
  },
  {
   "cell_type": "code",
   "execution_count": 38,
   "id": "441bae36-57b8-4f50-99f4-659c9d4e011a",
   "metadata": {},
   "outputs": [
    {
     "name": "stdout",
     "output_type": "stream",
     "text": [
      "not eligible to vote\n"
     ]
    }
   ],
   "source": [
    "# if-else Statements\n",
    "\n",
    "age = 17\n",
    "if age>=18:\n",
    "    print('eligible to vote')\n",
    "else:\n",
    "    print('not eligible to vote')"
   ]
  },
  {
   "cell_type": "code",
   "execution_count": 42,
   "id": "e81762be-6da6-4a28-be5f-4c727c76391a",
   "metadata": {},
   "outputs": [
    {
     "name": "stdout",
     "output_type": "stream",
     "text": [
      "Your admission cost is $25.\n"
     ]
    }
   ],
   "source": [
    "# The if-elif-else Chain\n",
    "\n",
    "age = 12\n",
    "if age < 4:\n",
    "    print(\"Your admission cost is $0.\")\n",
    "elif age < 18:\n",
    "    print(\"Your admission cost is $25.\")\n",
    "else:\n",
    "    print(\"Your admission cost is $40.\")"
   ]
  },
  {
   "cell_type": "markdown",
   "id": "1a926486-3505-456a-8880-254da38fa41c",
   "metadata": {},
   "source": [
    "## <span style=\"font-size:35px; color:#708090;\">Using if Statements with Lists</span>"
   ]
  },
  {
   "cell_type": "code",
   "execution_count": 71,
   "id": "ae26a467-0cda-445e-a0f4-074bf445c9bd",
   "metadata": {},
   "outputs": [
    {
     "name": "stdout",
     "output_type": "stream",
     "text": [
      "Adding mushrooms\n",
      "// we ran out of green peppers //\n",
      "Adding extracheese\n",
      "...Finished making your pizza!\n"
     ]
    }
   ],
   "source": [
    "# Checking for Special Items \n",
    "# Checking That a List Is Not Empty\n",
    "\n",
    "available_toppings = ['mushrooms', 'olives', 'green peppers',\n",
    "'pepperoni', 'pineapple', 'extracheese']\n",
    "requested_toppings = ['mushrooms', 'green peppers', 'extracheese']\n",
    "#requested_toppings = []\n",
    "if requested_toppings:\n",
    "    for req_topping in requested_toppings:\n",
    "        if(req_topping == 'green peppers'):\n",
    "            print(f'// we ran out of {req_topping} //')\n",
    "        else:\n",
    "            print(f\"Adding {req_topping}\")\n",
    "    print('...Finished making your pizza!')\n",
    "else:\n",
    "    print('Are you sure you want a plain pizza?')\n",
    "\n"
   ]
  },
  {
   "cell_type": "code",
   "execution_count": 79,
   "id": "79d6cc7e-646e-4fc9-bda3-49e2c2c931ab",
   "metadata": {},
   "outputs": [
    {
     "name": "stdout",
     "output_type": "stream",
     "text": [
      "Adding mushrooms to pizza...\n",
      "Adding green peppers to pizza...\n",
      "Adding extracheese to pizza...\n",
      "panipuri is not available\n",
      "chilli flakes is not available\n"
     ]
    }
   ],
   "source": [
    "# Using Multiple Lists\n",
    "\n",
    "available_toppings = ['mushrooms', 'olives', 'green peppers',\n",
    "'pepperoni', 'pineapple', 'extracheese']\n",
    "requested_toppings = ['mushrooms', 'green peppers', 'extracheese', 'panipuri', 'chilli flakes']\n",
    "\n",
    "for requested_topping in requested_toppings:\n",
    "    if(requested_topping in available_toppings):\n",
    "        print(f'Adding {requested_topping} to pizza...')\n",
    "    else:\n",
    "        print(f'{requested_topping} is not available')\n",
    "    "
   ]
  },
  {
   "cell_type": "code",
   "execution_count": null,
   "id": "be317e68-d962-46e9-aba4-99e3b49e9b0c",
   "metadata": {},
   "outputs": [],
   "source": []
  }
 ],
 "metadata": {
  "kernelspec": {
   "display_name": "Python 3 (ipykernel)",
   "language": "python",
   "name": "python3"
  },
  "language_info": {
   "codemirror_mode": {
    "name": "ipython",
    "version": 3
   },
   "file_extension": ".py",
   "mimetype": "text/x-python",
   "name": "python",
   "nbconvert_exporter": "python",
   "pygments_lexer": "ipython3",
   "version": "3.12.4"
  }
 },
 "nbformat": 4,
 "nbformat_minor": 5
}
