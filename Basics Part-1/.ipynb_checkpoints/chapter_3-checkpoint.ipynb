{
 "cells": [
  {
   "cell_type": "markdown",
   "id": "2f9626da-6b07-49f3-a420-2b392cec906a",
   "metadata": {},
   "source": [
    "# <span style=\"font-size:40px; color:#FFA500;\">LISTS</span>"
   ]
  },
  {
   "cell_type": "code",
   "execution_count": 1,
   "id": "41c9971d-5f5a-4cf9-bf09-9f62212cbe22",
   "metadata": {},
   "outputs": [],
   "source": [
    "bicycles = ['trek', 'cannondale', 'redline', 'specialized']"
   ]
  },
  {
   "cell_type": "code",
   "execution_count": 5,
   "id": "97aa9331-c821-4a51-a24f-d8460e0acc01",
   "metadata": {},
   "outputs": [
    {
     "name": "stdout",
     "output_type": "stream",
     "text": [
      "['trek', 'cannondale', 'redline', 'specialized']\n"
     ]
    }
   ],
   "source": [
    "# printing list\n",
    "print(bicycles)"
   ]
  },
  {
   "cell_type": "markdown",
   "id": "4eb06234-18f5-41f8-a546-cc879d3886f3",
   "metadata": {},
   "source": [
    "## <span style=\"font-size:38px; color:#708090;\">What is a List ?</span>"
   ]
  },
  {
   "cell_type": "code",
   "execution_count": 17,
   "id": "a2f2ba3d-9519-477e-9261-4f7b83066187",
   "metadata": {},
   "outputs": [
    {
     "name": "stdout",
     "output_type": "stream",
     "text": [
      "trek\n",
      "Trek\n",
      "specialized\n",
      "specialized\n",
      "cannondale\n"
     ]
    }
   ],
   "source": [
    "# Accessing elements from list\n",
    "# Index positions start at 0 not 1\n",
    "\n",
    "print(bicycles[0])\n",
    "print(bicycles[0].title())\n",
    "print(bicycles[3])\n",
    "print(bicycles[-1])\n",
    "print(bicycles[-3])"
   ]
  },
  {
   "cell_type": "code",
   "execution_count": 19,
   "id": "970973d2-783b-4cf7-bdbf-031d22ca0761",
   "metadata": {},
   "outputs": [
    {
     "name": "stdout",
     "output_type": "stream",
     "text": [
      "My first bicycle was a CANNONDALE\n"
     ]
    }
   ],
   "source": [
    "# using individual values from a list \n",
    "\n",
    "message = f\"My first bicycle was a {bicycles[1].upper()}\"\n",
    "print(message)"
   ]
  },
  {
   "cell_type": "markdown",
   "id": "0a603983-0fd0-4798-a706-c20dfc18435a",
   "metadata": {},
   "source": [
    "## <span style=\"font-size:38px; color:#708090;\">Modifying, Adding, and Removing Elements</span>"
   ]
  },
  {
   "cell_type": "code",
   "execution_count": 47,
   "id": "aff2893b-219d-49d3-a330-cf36d06b8665",
   "metadata": {},
   "outputs": [
    {
     "name": "stdout",
     "output_type": "stream",
     "text": [
      "['honda', 'yamaha', 'suzuki']\n",
      "['royal enfield', 'yamaha', 'suzuki']\n"
     ]
    }
   ],
   "source": [
    "# Modifying Elements in a List \n",
    "\n",
    "motorcycles = ['honda', 'yamaha', 'suzuki']\n",
    "print(motorcycles)\n",
    "motorcycles[0] = 'royal enfield'\n",
    "print(motorcycles)"
   ]
  },
  {
   "cell_type": "code",
   "execution_count": 61,
   "id": "3316128c-9854-4e27-9dbc-fdc12df8b703",
   "metadata": {},
   "outputs": [
    {
     "name": "stdout",
     "output_type": "stream",
     "text": [
      "['royal enfield', 'yamaha', 'suzuki', 'ducati', 'ducati', 'ducati', 'ducati', 'ducati', 'ducati', 'ducati']\n",
      "['Ford', 'Swift', 'Merceded', 'BMW']\n",
      "['supra', 'Ford', 'Swift', 'aston martin', 'Merceded', 'BMW']\n"
     ]
    }
   ],
   "source": [
    "# Adding Elements to a List ->\n",
    "\n",
    "# Appending Elements to the End of a List:\n",
    "motorcycles.append('ducati')\n",
    "print(motorcycles)\n",
    "\n",
    "car = []\n",
    "car.append('Ford')\n",
    "car.append('Swift')\n",
    "car.append('Merceded')\n",
    "car.append('BMW')\n",
    "print(car)\n",
    "\n",
    "# Inserting Elements into a List:\n",
    "car.insert(0, 'supra')\n",
    "car.insert(3, 'aston martin')\n",
    "print(car)"
   ]
  },
  {
   "cell_type": "code",
   "execution_count": 100,
   "id": "62c6eddc-df46-4115-bba3-749538af5b56",
   "metadata": {},
   "outputs": [
    {
     "name": "stdout",
     "output_type": "stream",
     "text": [
      "['honda', 'yamaha', 'suzuki']\n",
      "['yamaha', 'suzuki']\n",
      "['yamaha']\n",
      "['honda', 'yamaha', 'suzuki']\n",
      "suzuki\n",
      "The last motorcycle I earned was SUZUKI\n",
      "My second motorcycle I earned was YAMAHA\n",
      "['honda', 'yamaha', 'suzuki']\n"
     ]
    }
   ],
   "source": [
    "# Removing Elements from a List =>\n",
    "\n",
    "## Removing an Item Using the del Statement:\n",
    "motorcycles = ['honda', 'yamaha', 'suzuki']\n",
    "print(motorcycles)\n",
    "del motorcycles[0]\n",
    "print(motorcycles)\n",
    "del motorcycles[1]\n",
    "print(motorcycles)\n",
    "\n",
    "## Removing an Item Using the pop() Method:\n",
    "motorcycles = ['honda', 'yamaha', 'suzuki']\n",
    "print(motorcycles)\n",
    "popped_el = motorcycles.pop()\n",
    "print(popped_el)\n",
    "print(f\"The last motorcycle I earned was {popped_el.upper()}\")\n",
    "\n",
    "## Popping Items from Any Position in a List:\n",
    "second_owned = motorcycles[1]\n",
    "print(f\"My second motorcycle I earned was {second_owned.upper()}\")\n",
    "\n",
    "## Removing an Item by Value:\n",
    "motorcycles = ['honda', 'yamaha', 'suzuki', 'ducati']\n",
    "motorcycles.remove('ducati')\n",
    "print(motorcycles)"
   ]
  },
  {
   "cell_type": "markdown",
   "id": "a106e000-9e72-4cf4-b06a-765af5e72fd6",
   "metadata": {},
   "source": [
    "## <span style=\"font-size:38px; color:#708090;\">Organizing a List</span>"
   ]
  },
  {
   "cell_type": "code",
   "execution_count": 11,
   "id": "4432e55c-b926-42ef-8b7e-e082b890da1b",
   "metadata": {},
   "outputs": [
    {
     "name": "stdout",
     "output_type": "stream",
     "text": [
      "['bmw', 'audi', 'toyota', 'subaru']\n",
      "['toyota', 'subaru', 'bmw', 'audi']\n"
     ]
    }
   ],
   "source": [
    "# Sorting a List Permanently with the sort() Method\n",
    "cars = ['bmw', 'audi', 'toyota', 'subaru']\n",
    "cars_2 = ['bmw', 'audi', 'toyota', 'subaru']\n",
    "print(cars)\n",
    "cars.sort()\n",
    "cars_2.sort(reverse=True)\n",
    "print(cars_2)"
   ]
  },
  {
   "cell_type": "code",
   "execution_count": 15,
   "id": "a675abbe-3ba1-42e1-ba40-fe72bc8066ab",
   "metadata": {},
   "outputs": [
    {
     "name": "stdout",
     "output_type": "stream",
     "text": [
      "['audi', 'bmw', 'subaru', 'toyota']\n",
      "['bmw', 'audi', 'toyota', 'subaru']\n"
     ]
    }
   ],
   "source": [
    "# Sorting a List Temporarily with the sorted() Function\n",
    "cars = ['bmw', 'audi', 'toyota', 'subaru']\n",
    "print(sorted(cars)) \n",
    "print(cars)"
   ]
  },
  {
   "cell_type": "code",
   "execution_count": 21,
   "id": "4d5814a5-1a74-42bd-bdf4-fcc65ac8ebf3",
   "metadata": {},
   "outputs": [
    {
     "name": "stdout",
     "output_type": "stream",
     "text": [
      "['bmw', 'audi', 'toyota', 'subaru']\n",
      "['subaru', 'toyota', 'audi', 'bmw']\n"
     ]
    }
   ],
   "source": [
    "# Printing a List in Reverse Order\n",
    "cars = ['bmw', 'audi', 'toyota', 'subaru']\n",
    "print(cars)\n",
    "cars.reverse()\n",
    "print(cars)"
   ]
  },
  {
   "cell_type": "code",
   "execution_count": 25,
   "id": "e7a192eb-8f51-4fff-a146-33b504f7185f",
   "metadata": {},
   "outputs": [
    {
     "name": "stdout",
     "output_type": "stream",
     "text": [
      "4\n"
     ]
    }
   ],
   "source": [
    "# Finding the Length of a List\n",
    "print(len(cars))"
   ]
  },
  {
   "cell_type": "code",
   "execution_count": null,
   "id": "f7d1912a-9b4d-4647-b6e5-1dacde67c0b6",
   "metadata": {},
   "outputs": [],
   "source": []
  }
 ],
 "metadata": {
  "kernelspec": {
   "display_name": "Python 3 (ipykernel)",
   "language": "python",
   "name": "python3"
  },
  "language_info": {
   "codemirror_mode": {
    "name": "ipython",
    "version": 3
   },
   "file_extension": ".py",
   "mimetype": "text/x-python",
   "name": "python",
   "nbconvert_exporter": "python",
   "pygments_lexer": "ipython3",
   "version": "3.12.4"
  }
 },
 "nbformat": 4,
 "nbformat_minor": 5
}
