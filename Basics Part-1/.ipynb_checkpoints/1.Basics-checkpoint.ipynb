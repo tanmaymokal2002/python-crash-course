{
 "cells": [
  {
   "cell_type": "markdown",
   "id": "5c3aed8b-4a7b-48a5-a503-a253620b4954",
   "metadata": {},
   "source": [
    "# 1. Basics\n"
   ]
  },
  {
   "cell_type": "code",
   "execution_count": 11,
   "id": "5acf7172-95ba-4dda-92d5-61631148e1c3",
   "metadata": {},
   "outputs": [
    {
     "name": "stdout",
     "output_type": "stream",
     "text": [
      "hello Wordl\n"
     ]
    }
   ],
   "source": [
    "print('hello Wordl')"
   ]
  },
  {
   "cell_type": "code",
   "execution_count": 15,
   "id": "40743d43-8415-4984-806c-af34b227a004",
   "metadata": {},
   "outputs": [
    {
     "name": "stdout",
     "output_type": "stream",
     "text": [
      "Python 1\n",
      "Python 2\n"
     ]
    }
   ],
   "source": [
    "message = 'Python 1'\n",
    "print(message)\n",
    "message = 'Python 2'\n",
    "print(message)"
   ]
  },
  {
   "cell_type": "code",
   "execution_count": null,
   "id": "c2c89df5-186b-4faf-b4c6-71a8191acd6a",
   "metadata": {},
   "outputs": [],
   "source": []
  }
 ],
 "metadata": {
  "kernelspec": {
   "display_name": "Python 3 (ipykernel)",
   "language": "python",
   "name": "python3"
  },
  "language_info": {
   "codemirror_mode": {
    "name": "ipython",
    "version": 3
   },
   "file_extension": ".py",
   "mimetype": "text/x-python",
   "name": "python",
   "nbconvert_exporter": "python",
   "pygments_lexer": "ipython3",
   "version": "3.12.4"
  }
 },
 "nbformat": 4,
 "nbformat_minor": 5
}
