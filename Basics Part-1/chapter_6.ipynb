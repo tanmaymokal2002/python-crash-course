{
 "cells": [
  {
   "cell_type": "markdown",
   "id": "c37f3c37-9ed2-41cb-bba8-26a7c24d50df",
   "metadata": {},
   "source": [
    "# <span style=\"font-size:40px; color:#FFA500;\">DICTIONARIES</span>"
   ]
  },
  {
   "cell_type": "markdown",
   "id": "b54f905c-5fbf-44b8-a5d5-dc0b23e0ba2e",
   "metadata": {},
   "source": [
    "## <span style=\"font-size:35px; color:#708090;\">A Simple Dictionary</span>"
   ]
  },
  {
   "cell_type": "code",
   "execution_count": 9,
   "id": "156f5ca4-780b-4549-af64-73af028e3b5f",
   "metadata": {},
   "outputs": [
    {
     "name": "stdout",
     "output_type": "stream",
     "text": [
      "green\n"
     ]
    }
   ],
   "source": [
    "alien_0 = {'color': 'green', 'points': 5}\n",
    "print(alien_0['color'])"
   ]
  },
  {
   "cell_type": "markdown",
   "id": "114458ae-3806-4f57-b560-b8c299fd23be",
   "metadata": {},
   "source": [
    "## <span style=\"font-size:35px; color:#708090;\">Accessing Values in a Dictionary</span>"
   ]
  },
  {
   "cell_type": "code",
   "execution_count": 15,
   "id": "8f5687c8-cf82-4d7c-8a27-b24a30b8ad5e",
   "metadata": {},
   "outputs": [
    {
     "name": "stdout",
     "output_type": "stream",
     "text": [
      "you just earned 5 points!\n"
     ]
    }
   ],
   "source": [
    "alien_0 = {'color': 'green', 'points': 5}\n",
    "new_point = alien_0['points']\n",
    "print(f'you just earned {new_point} points!')"
   ]
  },
  {
   "cell_type": "markdown",
   "id": "75aea1c1-d82e-46a6-80b6-12baaf706fd5",
   "metadata": {},
   "source": [
    "## <span style=\"font-size:35px; color:#708090;\">Adding New Key-Value Pairs</span>"
   ]
  },
  {
   "cell_type": "code",
   "execution_count": 19,
   "id": "bdf4b991-078e-480d-aac6-5be4b8a7e082",
   "metadata": {},
   "outputs": [
    {
     "name": "stdout",
     "output_type": "stream",
     "text": [
      "{'color': 'green', 'points': 5}\n",
      "{'color': 'green', 'points': 5, 'x_position': 200, 'y_position': 300}\n"
     ]
    }
   ],
   "source": [
    "alien_0 = {'color': 'green', 'points': 5}\n",
    "print(alien_0)\n",
    "alien_0['x_position'] = 200\n",
    "alien_0['y_position'] = 300\n",
    "print(alien_0)"
   ]
  },
  {
   "cell_type": "code",
   "execution_count": null,
   "id": "6d82ca5d-494b-4851-a813-69f591f459d9",
   "metadata": {},
   "outputs": [],
   "source": []
  }
 ],
 "metadata": {
  "kernelspec": {
   "display_name": "Python 3 (ipykernel)",
   "language": "python",
   "name": "python3"
  },
  "language_info": {
   "codemirror_mode": {
    "name": "ipython",
    "version": 3
   },
   "file_extension": ".py",
   "mimetype": "text/x-python",
   "name": "python",
   "nbconvert_exporter": "python",
   "pygments_lexer": "ipython3",
   "version": "3.12.4"
  }
 },
 "nbformat": 4,
 "nbformat_minor": 5
}
